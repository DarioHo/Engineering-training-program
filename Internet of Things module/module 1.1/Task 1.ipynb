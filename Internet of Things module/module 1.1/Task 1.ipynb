{
 "cells": [
  {
   "cell_type": "code",
   "execution_count": 1,
   "metadata": {},
   "outputs": [],
   "source": [
    "import numpy as np"
   ]
  },
  {
   "cell_type": "code",
   "execution_count": 2,
   "metadata": {},
   "outputs": [],
   "source": [
    "# create a 1D array\n",
    "x = np.array([0, 1, 2, 3, 4, 5, 6])"
   ]
  },
  {
   "cell_type": "code",
   "execution_count": 3,
   "metadata": {},
   "outputs": [
    {
     "name": "stdout",
     "output_type": "stream",
     "text": [
      "The non_zero_elements are: [1 2 3 4 5 6]\n",
      "The non_zero_elements indices are: (array([1, 2, 3, 4, 5, 6], dtype=int32),)\n"
     ]
    }
   ],
   "source": [
    "# find all non-zero elements in x\n",
    "non_zero_elements = x[x!=0]\n",
    "\n",
    "# find the non-zero elements indices in x, i.e. the position.\n",
    "non_zero_elements_indices  = np.nonzero(x)\n",
    "\n",
    "# check the result\n",
    "print ('The non_zero_elements are:', non_zero_elements)\n",
    "print ('The non_zero_elements indices are:', non_zero_elements_indices)"
   ]
  },
  {
   "cell_type": "code",
   "execution_count": 4,
   "metadata": {},
   "outputs": [
    {
     "name": "stdout",
     "output_type": "stream",
     "text": [
      "The matrix A is:\n",
      " [[ 1.76125212 -1.18551762 -1.06211496  0.9022337  -0.41940025]\n",
      " [ 0.0901296   1.24068819  0.05977449 -1.14023988  0.48982464]\n",
      " [-0.97958245 -0.0021547   1.79822657 -0.04272431  0.72060667]\n",
      " [ 0.55189202 -0.05843421 -1.20288563 -0.60561163 -1.48877413]\n",
      " [ 0.1285736   0.16884    -0.40008242  1.19793117 -0.21282754]]\n",
      "The matrix B is:\n",
      " [[1. 0. 0. 0. 0.]\n",
      " [0. 1. 0. 0. 0.]\n",
      " [0. 0. 1. 0. 0.]\n",
      " [0. 0. 0. 1. 0.]\n",
      " [0. 0. 0. 0. 1.]]\n"
     ]
    }
   ],
   "source": [
    "# create a 5x5 matrix A with random numbers\n",
    "A = np.random.randn(5, 5)\n",
    "\n",
    "# create a 5x5 identity matrix B\n",
    "B = np.eye(5)\n",
    "\n",
    "# show the matrix A and B\n",
    "print ('The matrix A is:\\n', A)\n",
    "print ('The matrix B is:\\n', B)"
   ]
  },
  {
   "cell_type": "code",
   "execution_count": 5,
   "metadata": {},
   "outputs": [
    {
     "name": "stdout",
     "output_type": "stream",
     "text": [
      "The addition result is:\n",
      " [[ 2.76125212e+00 -1.18551762e+00 -1.06211496e+00  9.02233697e-01\n",
      "  -4.19400252e-01]\n",
      " [ 9.01296000e-02  2.24068819e+00  5.97744899e-02 -1.14023988e+00\n",
      "   4.89824642e-01]\n",
      " [-9.79582447e-01 -2.15470398e-03  2.79822657e+00 -4.27243148e-02\n",
      "   7.20606673e-01]\n",
      " [ 5.51892018e-01 -5.84342150e-02 -1.20288563e+00  3.94388366e-01\n",
      "  -1.48877413e+00]\n",
      " [ 1.28573596e-01  1.68839998e-01 -4.00082415e-01  1.19793117e+00\n",
      "   7.87172464e-01]]\n",
      "The subtraction result is:\n",
      " [[ 0.76125212 -1.18551762 -1.06211496  0.9022337  -0.41940025]\n",
      " [ 0.0901296   0.24068819  0.05977449 -1.14023988  0.48982464]\n",
      " [-0.97958245 -0.0021547   0.79822657 -0.04272431  0.72060667]\n",
      " [ 0.55189202 -0.05843421 -1.20288563 -1.60561163 -1.48877413]\n",
      " [ 0.1285736   0.16884    -0.40008242  1.19793117 -1.21282754]]\n",
      "The product result is:\n",
      " [[ 1.76125212 -1.18551762 -1.06211496  0.9022337  -0.41940025]\n",
      " [ 0.0901296   1.24068819  0.05977449 -1.14023988  0.48982464]\n",
      " [-0.97958245 -0.0021547   1.79822657 -0.04272431  0.72060667]\n",
      " [ 0.55189202 -0.05843421 -1.20288563 -0.60561163 -1.48877413]\n",
      " [ 0.1285736   0.16884    -0.40008242  1.19793117 -0.21282754]]\n",
      "The tranpose result is:\n",
      " [[ 1.76125212  0.0901296  -0.97958245  0.55189202  0.1285736 ]\n",
      " [-1.18551762  1.24068819 -0.0021547  -0.05843421  0.16884   ]\n",
      " [-1.06211496  0.05977449  1.79822657 -1.20288563 -0.40008242]\n",
      " [ 0.9022337  -1.14023988 -0.04272431 -0.60561163  1.19793117]\n",
      " [-0.41940025  0.48982464  0.72060667 -1.48877413 -0.21282754]]\n"
     ]
    }
   ],
   "source": [
    "# calculate the following equations\n",
    "\n",
    "# A + B\n",
    "addition = A + B\n",
    "# show addition result\n",
    "print ('The addition result is:\\n', addition)\n",
    "\n",
    "# A - B\n",
    "subtraction = A - B\n",
    "# show subtraction result\n",
    "print ('The subtraction result is:\\n', subtraction)\n",
    "\n",
    "# A * B (matrix product)\n",
    "product = np.dot(A,B)\n",
    "# show product result\n",
    "print ('The product result is:\\n', product)\n",
    "\n",
    "# A' (transpose of A)\n",
    "# Calculate the transpose and show the result\n",
    "print ('The tranpose result is:\\n', A.T,)"
   ]
  },
  {
   "cell_type": "code",
   "execution_count": 6,
   "metadata": {},
   "outputs": [
    {
     "name": "stdout",
     "output_type": "stream",
     "text": [
      "The mean for each column:\n",
      " [ 0.31045298  0.03268433 -0.16141639  0.06231781 -0.18211412]\n",
      "The sum for each column:\n",
      " [ 1.55226489  0.16342165 -0.80708194  0.31158904 -0.9105706 ]\n",
      "The max for each column:\n",
      " [1.76125212 1.24068819 1.79822657 1.19793117 0.72060667]\n",
      "The min for each column:\n",
      " [-0.97958245 -1.18551762 -1.20288563 -1.14023988 -1.48877413]\n"
     ]
    }
   ],
   "source": [
    "# calculate the mean, sum, max, min value for each column in A\n",
    "\n",
    "# Mean for each column\n",
    "A_mean_col = A.mean(axis=0)\n",
    "print ('The mean for each column:\\n', A_mean_col)\n",
    "\n",
    "# Sum for each column\n",
    "A_sum_col = A.sum(axis=0)\n",
    "print ('The sum for each column:\\n', A_sum_col)\n",
    "\n",
    "# Max for each column\n",
    "A_max_col = A.max(axis=0)\n",
    "print ('The max for each column:\\n', A_max_col)\n",
    "\n",
    "# Min for each column\n",
    "A_min_col = A.min(axis=0)\n",
    "print ('The min for each column:\\n', A_min_col)"
   ]
  },
  {
   "cell_type": "code",
   "execution_count": 7,
   "metadata": {},
   "outputs": [
    {
     "name": "stdout",
     "output_type": "stream",
     "text": [
      "The max value in A is: 1.798226573069576\n",
      "The min value in A is: -1.4887741300127448\n",
      "The normalize form is:\n",
      " [[0.98875131 0.09225934 0.12980197 0.72741324 0.32533424]\n",
      " [0.48034785 0.83038082 0.47111296 0.10603413 0.60194656]\n",
      " [0.15491073 0.45227232 1.         0.43992988 0.67215708]\n",
      " [0.62082924 0.43515047 0.08697549 0.26868339 0.        ]\n",
      " [0.49204362 0.50429382 0.33121128 0.8173729  0.38817959]]\n"
     ]
    }
   ],
   "source": [
    "# normalize A with its max value A_max and min value A_min\n",
    "# i.e., for any value x in A,\n",
    "# x = (x - A_min) / (A_max - A_min)\n",
    "A_max = np.max(A)\n",
    "A_min = np.min(A)\n",
    "A = (A - A_min)/(A_max - A_min)\n",
    "print ('The max value in A is:', A_max)\n",
    "print ('The min value in A is:', A_min)\n",
    "print ('The normalize form is:\\n', A)"
   ]
  },
  {
   "cell_type": "code",
   "execution_count": 8,
   "metadata": {},
   "outputs": [
    {
     "data": {
      "text/plain": [
       "array([2., 3.])"
      ]
     },
     "execution_count": 8,
     "metadata": {},
     "output_type": "execute_result"
    }
   ],
   "source": [
    "# advanced exercise\n",
    "# solve the system of equations:\n",
    "# 3 * x0 + x1 = 9\n",
    "# x0 + 2 * x1 = 8\n",
    "\n",
    "# Ax = b \n",
    "A = np.array([[3, 1], [1, 2]])\n",
    "b = np.array([9, 8])\n",
    "x = np.linalg.solve(A, b)\n",
    "x"
   ]
  },
  {
   "cell_type": "code",
   "execution_count": 9,
   "metadata": {},
   "outputs": [
    {
     "name": "stdout",
     "output_type": "stream",
     "text": [
      "The comparation of x with the product of inverse A and b: [2.22044605e-16 0.00000000e+00]\n"
     ]
    }
   ],
   "source": [
    "# compare x with the product of inverse A and b\n",
    "# calculate the inverse of A\n",
    "A_inv = np.linalg.inv(A)\n",
    "\n",
    "# product of inverse A and B \n",
    "product_invA_B = np.dot(A_inv,b)\n",
    "\n",
    "# comapre x with the \"product of inverse A and b\"\n",
    "compare = np.subtract(x, product_invA_B)\n",
    "\n",
    "# print the result\n",
    "print ('The comparation of x with the product of inverse A and b:', compare)\n"
   ]
  },
  {
   "cell_type": "code",
   "execution_count": null,
   "metadata": {},
   "outputs": [],
   "source": []
  }
 ],
 "metadata": {
  "kernelspec": {
   "display_name": "Python 3",
   "language": "python",
   "name": "python3"
  },
  "language_info": {
   "codemirror_mode": {
    "name": "ipython",
    "version": 3
   },
   "file_extension": ".py",
   "mimetype": "text/x-python",
   "name": "python",
   "nbconvert_exporter": "python",
   "pygments_lexer": "ipython3",
   "version": "3.7.3"
  }
 },
 "nbformat": 4,
 "nbformat_minor": 2
}
